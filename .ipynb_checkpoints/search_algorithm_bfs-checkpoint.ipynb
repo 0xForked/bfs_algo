{
 "cells": [
  {
   "cell_type": "markdown",
   "metadata": {},
   "source": [
    "# Algoritma dan Struktur Data (Topik:Searching)"
   ]
  },
  {
   "cell_type": "markdown",
   "metadata": {},
   "source": [
    "### Tugas\n",
    "#### Pemrograman Algoritma Pencarian (Searching)\n",
    "\n",
    "**A. Algoritma BFS** \n",
    "\n",
    "![tugas](img/task.png)\n",
    "\n",
    "1. Definisikan graphnya untuk jogja dan sekitarnya dengan node berupa kota kabupaten saja seperti contoh di bawah ini \n",
    "2. Terapkan pemrograman pencarian menggunakan algoritma BFS untuk pencarian path optimum dari kota asal Yogyakarta dan kota tujuan Solo\n",
    "\n",
    "    *) catatan: Untuk tugas ini asumsikan bahwa jarak antar kota sama, representasikan graph di atas seperti contoh.\n",
    "\n",
    "**Petunjuk dan ketentuan**\n",
    "\n",
    "- tugas didiskusikan, didokumentasikan lalu dikumpulkan (submit pada LMS) pada waktu yang ditentukan\n",
    "- tugas dilakukan secara berkelompok. Masing-masing kelompok cukup mengumpulkan 1 dokumen hasil pengerjaan dengan mencantumkan anggota kelompoknya\n",
    "- tugas didokumentasikan dalam format file word dengan mencantumkan uraian penjelasan atas jawaban dari pertanyaan yang diberikan serta melampirkan dokumentasi kode program yang digunakan (disesuaikan) untuk menyelesaikan permasalahan"
   ]
  },
  {
   "cell_type": "markdown",
   "metadata": {},
   "source": [
    "## A. Breadth First Search (BFS) Algorithm\n",
    "\n",
    "BFS merupakan algoritma yang melakukan pencarian secara melebar yang mengunjungi simpul secara preorder (mengunjungi suatu simpul kemudian mengunjungi semua simpul yang bertetanga dengan simpul tersebut terlebih dahulu). \n",
    "\n",
    "FunFact:\n",
    "- Dijalankan dengan kompleksitas O(V+E)\n",
    "- Untuk menemukan jalur terpendek pada grafik yang tidak berbobot \n",
    "\n",
    "Algoritma (Transversal dimulai dari simpul *v*):\n",
    "1. Kunjungi simpul *v*\n",
    "2. Kunjungi semua simpul yang bertetangga dengan simpul *v* \n",
    "3. Kunjungi simpul yang belum dikunjungi dan bertetangga dengan simpul-simpul yang sebelumnya dikunjungi, demikian seterusnya.\n",
    "\n",
    "Jika graph (himpunan dari objek-objek yang dinamakan titik, simpul, atau sudut dihubungkan oleh penghubung yang dinamakan garis atau sisi) berbentuk pohon berakar, maka semua simpul pada aras (tingkat atau level) *d* dikunjungi terlebih dahulu sebelum simpul-simpul pada aras (tingkat atau level) *d+1*. \n",
    "    \n",
    "### Ilustrasi berdasarkan gambar diatas pada soal:\n",
    "Algoritma ini memerlukan sebuah antrian (queue data structure) untuk menyimpan simpul yang telah dikunjungi. Simpul-Simpul ini diperlukan sebagai acuan untuk mengujungi Simpul-Simpul yang bertetangga dengannya.Tiap simpul yang telah dikunjungi masuk ke dalam antrian hanya satu kali. \n",
    "\n",
    "#### Ketentuan\n",
    "- titik asal = Yogyakarta,\n",
    "- titik tujuan = Solo.\n",
    "\n",
    "#### Algoritma\n",
    "Dalam program (Penentuan jalur antar 2 titik):\n",
    "1. Validasi titik awal dan akhir (harus tidak sama)\n",
    "2. Tandai titik mulai (starting node) (lihat ketentuan)\n",
    "3. Ambil titik mulai dari antrian dan dapatkan jalur terakhir\n",
    "4. Validasi jika titik sudah pernah di lewati\n",
    "5. Jika belum, langsung menuju ke titik tetangganya\n",
    "6. Tambahkan tetangganya kedalam antrian\n",
    "7. Tandai jika titik telah di kunjungi\n",
    "8. Ulangi langkah 4 - 8 hingga titik tetangga saat itu sama dengan titik akhir dan tampilkan jalurnya\n",
    "\n",
    "Maka Antrian *q* berdasarkan level *d*: \n",
    "1. *d(0)*, Yogyakarta (Cek Yogyakarta : bukan solusi maka simpan di output)\n",
    "2. *d(1)*, Klaten, Bantul, GunungKidul, Wates, Magelang (Cek Klaten : bukan solusi maka simpan di output)\n",
    "3. *d(2)*, Solo, Salatiga, GunungKidul (Cek Solo: Solo merupakan solusi maka simpan dioutput dan proses penyelesaian)\n",
    "\n",
    "diumpamakan berdasarkan gambar:\n",
    "\n",
    "- start = \"yogyakarta\"\n",
    "- goal = \"solo\"\n",
    "----------------------\n",
    "- bfs_algo(graph, start, goal): \n",
    "- queue -> start (inside queue = yogyakarta)\n",
    "----------------------\n",
    "- bfs_algo(graph, start, goal): yogyakarta (order)\n",
    "- queue -> start (inside queue (from left of image) -> Wates, Bantul, GunungKidul, Klaten, Magelang)\n",
    "- *v* -> Yogyakarta \n",
    "----------------------\n",
    "\\-> *pop* wates\n",
    "- bfs_algo(graph, start, goal): yogyakarta, wates (order)\n",
    "- queue -> start (inside queue (from left of image) -> **purworejo**, **wonosobo**, Bantul, GunungKidul, Klaten, Magelang)\n",
    "- *v* -> wates \n",
    "\\-> *add* purworejo, wonosobo\n",
    "-----------------------\n",
    "\\-> *pop* purworejo\n",
    "- bfs_algo(graph, start, goal): yogyakarta, wates, purworejo (order)\n",
    "- queue -> start (inside queue (from left of image) -> wonosobo, Bantul, GunungKidul, Klaten, Magelang)\n",
    "- *v* -> purworejo \n",
    "\\-> *add* nothing becase all of his neighboards are visited\n",
    "-----------------------\n",
    "\\-> *pop* wonosobo\n",
    "- bfs_algo(graph, start, goal): yogyakarta, wates, purworejo, wonosobo (order)\n",
    "- queue -> start (inside queue (from left of image) -> Bantul, GunungKidul, Klaten, Magelang)\n",
    "- *v* -> wonosobo \n",
    "\\-> *add* nothing becase all of his neighboards are visited\n",
    "-----------------------\n",
    "\\-> *pop* Bantul\n",
    "- bfs_algo(graph, start, goal): yogyakarta, wates, bantul (order)\n",
    "- queue -> start (inside queue (from left of image) -> GunungKidul, Klaten, Magelang, purworejo, wonosobo)\n",
    "- *v* -> Bantul \n",
    "\\-> *add* nothing becase all of his neighboards are visited\n",
    "-----------------------\n",
    "\\-> *pop* GunungKidul\n",
    "- bfs_algo(graph, start, goal): yogyakarta, wates, bantul, gunungkidul (order)\n",
    "- queue -> start (inside queue (from left of image) -> **pacitan**, Klaten, Magelang, purworejo, wonosobo)\n",
    "- *v* -> gunungkidul \n",
    "\\-> *add* pacitan\n",
    "-----------------------\n",
    "\\-> *pop* pacitan\n",
    "- bfs_algo(graph, start, goal): yogyakarta, wates, bantul, gunungkidul, pacitan (order)\n",
    "- queue -> start (inside queue (from left of image) -> Klaten, Magelang, purworejo, wonosobo)\n",
    "- *v* -> pacitan \n",
    "\\-> *add* solo\n",
    "- this vertex is the goal vertex so has been marked then\n",
    "\\-> terminate -> show the shortes path Yogyakarta, Magelang, Solo\n",
    "-----------------------\n",
    "Gambar Ilustrasi:\n",
    "![ilustrasi](img/ilustrasi.png)\n",
    "\n",
    "**Output: Yogyakarta, Klaten, Solo**\n",
    "berdasarkan langah dalam antrian diatas, dapat disimpulkan dengan DFS didapat jalur yang paling optimal adalah jalur Yogyakarta, Klaten, Solo\n",
    "\n",
    "### IMPLEMENTASI"
   ]
  },
  {
   "cell_type": "code",
   "execution_count": 151,
   "metadata": {},
   "outputs": [],
   "source": [
    "# membuat sebuah daftar sambungan berisikan Vertices menggunakan tipe data dict\n",
    "# dimana didalam Vertices terdapat Edges yang menggunakan tipe data set \n",
    "\n",
    "# Definisi:\n",
    "# Sets - tipe data yang dapat menyimpan banyak item dalam satu variabel.\n",
    "# Dictionaries - tipe data yang digunakan untuk menyimpan nilai data dalam pasangan kunci:nilai. \n",
    "\n",
    "# graph_edges yang direpresentasikan menggunakan daftar sambungan\n",
    "# dimana setiap simpul memiliki daftar simpanan \n",
    "# dari simpul-simpul yang berdekatan\n",
    "graph_edges = {\n",
    "    'Yogyakarta': {'Bantul','GunungKidul', 'Wates', 'Magelang', 'Klaten'},\n",
    "    'Wates': {'Bantul','Yogyakarta','Magelang','Purworejo','Wonosobo'},\n",
    "    'Bantul': {'Wates', 'Yogyakarta', 'GunungKidul'},\n",
    "    'GunungKidul': {'Bantul','Yogyakarta','Klaten','Pacitan'},\n",
    "    'Klaten': {'Salatiga','Yogyakarta','GunungKidul','Solo'},\n",
    "    'Magelang': {'Wonosobo','Yogyakarta','Wates','Semarang','Salatiga'},\n",
    "    'Pacitan': {'GunungKidul','Solo'},\n",
    "    'Purworejo': {'Wates','Wonosobo'},\n",
    "    'Wonosobo': {'Wates','Magelang'},\n",
    "    'Semarang': {'Salatiga','Magelang'},\n",
    "    'Salatiga': {'Magelang','Klaten','Solo'},\n",
    "    'Solo': {'Salatiga','Klaten','Pacitan'},\n",
    "}"
   ]
  },
  {
   "cell_type": "code",
   "execution_count": 152,
   "metadata": {},
   "outputs": [],
   "source": [
    "# mencari jalur diantara 2 titik dalam grafik menggunakan BFS\n",
    "def bfs_algo(graph, start, goal):\n",
    "    # validasi dan hentikan program ketika \n",
    "    # tujuan awal sama dengan tujuan akhir\n",
    "    if start == goal: \n",
    "        return \"Tidak dapat melanjutkan, Tujuan anda sama dengan posisi anda saat ini!\"\n",
    "    # variabel kosong untuk melacak \n",
    "    # titik yang sudah pernah dikunjungi\n",
    "    visited = []\n",
    "    # variabel yang berisikan data titik awal\n",
    "    # untuk melacak semua jalur yang akan diperiksa\n",
    "    queue = [[start]]\n",
    "    # terus melakukan perulangan sampai \n",
    "    # semua jalur yang memungkinkan telah diperiksa \n",
    "    while queue:\n",
    "        # hapus jalur pertama dari antrian dan,\n",
    "        # dapatkan titik terakhir dari jalur\n",
    "        path = queue.pop(0)\n",
    "        node = path[-1]\n",
    "        print(queue)\n",
    "        # validasi apakah jalur terakhir dari antrian\n",
    "        # sudah pernah dikunjungi sebelumnya\n",
    "        if node not in visited:\n",
    "            neighbours = graph[node]\n",
    "            # Telusuri semua titik dari grafik yang belum dikunjungi,  \n",
    "            # buat jalur baru dan masukkan dalam antrian \n",
    "            for neighbour in neighbours:\n",
    "                new_path = list(path)\n",
    "                new_path.append(neighbour)\n",
    "                queue.append(new_path)\n",
    "                # tampilkan jalur antara titik awal hingga akhir\n",
    "                # ketika titik saat ini adalah tujuan akhir\n",
    "                if neighbour == goal:\n",
    "                    return new_path\n",
    "            # tandai titik sudah dikunjungi\n",
    "            visited.append(node)\n",
    "    # hentikan program ketika jalur (awal, akhir) yang diberikan \n",
    "    # tidak terdaftar didalam daftar sambungan\n",
    "    return \"Jalur tidak ditemukan, pastikan memasukkan data dengan tepat sesuai daftar\""
   ]
  },
  {
   "cell_type": "code",
   "execution_count": 153,
   "metadata": {
    "scrolled": false
   },
   "outputs": [
    {
     "name": "stdout",
     "output_type": "stream",
     "text": [
      "[]\n",
      "[['Yogyakarta', 'Klaten'], ['Yogyakarta', 'Bantul'], ['Yogyakarta', 'Wates'], ['Yogyakarta', 'Magelang']]\n",
      "[['Yogyakarta', 'Bantul'], ['Yogyakarta', 'Wates'], ['Yogyakarta', 'Magelang'], ['Yogyakarta', 'GunungKidul', 'Yogyakarta'], ['Yogyakarta', 'GunungKidul', 'Klaten'], ['Yogyakarta', 'GunungKidul', 'Bantul'], ['Yogyakarta', 'GunungKidul', 'Pacitan']]\n"
     ]
    },
    {
     "data": {
      "text/plain": [
       "['Yogyakarta', 'Klaten', 'Solo']"
      ]
     },
     "execution_count": 153,
     "metadata": {},
     "output_type": "execute_result"
    }
   ],
   "source": [
    "bfs_algo(graph_edges, \"Yogyakarta\", \"Solo\")"
   ]
  },
  {
   "cell_type": "code",
   "execution_count": null,
   "metadata": {},
   "outputs": [],
   "source": []
  },
  {
   "cell_type": "code",
   "execution_count": null,
   "metadata": {},
   "outputs": [],
   "source": []
  },
  {
   "cell_type": "code",
   "execution_count": null,
   "metadata": {},
   "outputs": [],
   "source": []
  }
 ],
 "metadata": {
  "kernelspec": {
   "display_name": "Python 3",
   "language": "python",
   "name": "python3"
  },
  "language_info": {
   "codemirror_mode": {
    "name": "ipython",
    "version": 3
   },
   "file_extension": ".py",
   "mimetype": "text/x-python",
   "name": "python",
   "nbconvert_exporter": "python",
   "pygments_lexer": "ipython3",
   "version": "3.8.5"
  }
 },
 "nbformat": 4,
 "nbformat_minor": 4
}
